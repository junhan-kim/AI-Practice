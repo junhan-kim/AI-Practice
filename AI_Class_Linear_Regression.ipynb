{
  "cells": [
    {
      "cell_type": "code",
      "metadata": {
        "id": "qxhwI-iLz_9q",
        "colab_type": "code",
        "colab": {}
      },
      "source": [
        "import numpy as np\n",
        "from matplotlib import pyplot as plt"
      ],
      "execution_count": 0,
      "outputs": []
    },
    {
      "cell_type": "code",
      "metadata": {
        "id": "7Lh8i_7E0B7C",
        "colab_type": "code",
        "colab": {}
      },
      "source": [
        "# slope & coefficient init\n",
        "slope = 0\n",
        "coef = 0"
      ],
      "execution_count": 0,
      "outputs": []
    },
    {
      "cell_type": "code",
      "metadata": {
        "id": "l1ZbrV8d0DWU",
        "colab_type": "code",
        "colab": {}
      },
      "source": [
        "# x,y dataset\n",
        "# correlation between study time and test scores\n",
        "data = [[3, 35], [4, 50], [5, 45], [6, 64], [7, 66], [8, 70]]\n",
        "x = [i[0] for i in data]\n",
        "y = [i[1] for i in data]"
      ],
      "execution_count": 0,
      "outputs": []
    },
    {
      "cell_type": "code",
      "metadata": {
        "id": "0PKo8Z3h0EQ5",
        "colab_type": "code",
        "colab": {}
      },
      "source": [
        "# Least Squared Method\n",
        "def estimate(x, y):\n",
        "  x = np.array(x)\n",
        "  y = np.array(y)\n",
        "  n = np.size(x)\n",
        "  x_m, y_m = np.mean(x), np.mean(y)\n",
        "  m = (np.sum(y*x) - n*x_m*y_m) / (np.sum(x*x) - n*x_m*x_m)\n",
        "  c = y_m - m*x_m\n",
        "  return (m, c)"
      ],
      "execution_count": 0,
      "outputs": []
    },
    {
      "cell_type": "code",
      "metadata": {
        "id": "1bH30QLG0Fe-",
        "colab_type": "code",
        "colab": {}
      },
      "source": [
        "# regression function\n",
        "def predict(x):\n",
        "   return slope*x + coef"
      ],
      "execution_count": 0,
      "outputs": []
    },
    {
      "cell_type": "code",
      "metadata": {
        "id": "ZYCHVZ5E0Gcl",
        "colab_type": "code",
        "colab": {}
      },
      "source": [
        "slope, coef = estimate(x, y)"
      ],
      "execution_count": 0,
      "outputs": []
    },
    {
      "cell_type": "code",
      "metadata": {
        "id": "HEjzeT9F0Hps",
        "colab_type": "code",
        "colab": {
          "base_uri": "https://localhost:8080/",
          "height": 125
        },
        "outputId": "05c4d3fd-487b-42b8-beb6-6a2e6a9b6960"
      },
      "source": [
        "# set y_pred list\n",
        "y_pred = []\n",
        "for i in range(len(x)):\n",
        "   y_pred.append(predict(x[i]))\n",
        "   print(\"study time=%.f, real score=%.f, prediction score=%.f\" % (x[i], y[i], predict(x[i])))"
      ],
      "execution_count": 7,
      "outputs": [
        {
          "output_type": "stream",
          "text": [
            "study time=3, real score=35, prediction score=38\n",
            "study time=4, real score=50, prediction score=45\n",
            "study time=5, real score=45, prediction score=52\n",
            "study time=6, real score=64, prediction score=58\n",
            "study time=7, real score=66, prediction score=65\n",
            "study time=8, real score=70, prediction score=72\n"
          ],
          "name": "stdout"
        }
      ]
    },
    {
      "cell_type": "code",
      "metadata": {
        "id": "VIFX4EIZ0Jj4",
        "colab_type": "code",
        "colab": {
          "base_uri": "https://localhost:8080/",
          "height": 265
        },
        "outputId": "56ea5f3b-e755-4061-f027-2d22eba09702"
      },
      "source": [
        "# plotting graph\n",
        "plt.scatter(x,y)\n",
        "plt.plot(x,y_pred, color=\"red\")\n",
        "plt.show()"
      ],
      "execution_count": 8,
      "outputs": [
        {
          "output_type": "display_data",
          "data": {
            "image/png": "[encoded data removed]",
            "text/plain": [
              "<Figure size 432x288 with 1 Axes>"
            ]
          },
          "metadata": {
            "tags": [],
            "needs_background": "light"
          }
        }
      ]
    }
  ],
  "metadata": {
    "colab": {
      "name": "AI_Class_Linear_Regression.ipynb",
      "provenance": [],
      "collapsed_sections": []
    },
    "kernelspec": {
      "name": "python3",
      "display_name": "Python 3"
    }
  },
  "nbformat": 4,
  "nbformat_minor": 0
}